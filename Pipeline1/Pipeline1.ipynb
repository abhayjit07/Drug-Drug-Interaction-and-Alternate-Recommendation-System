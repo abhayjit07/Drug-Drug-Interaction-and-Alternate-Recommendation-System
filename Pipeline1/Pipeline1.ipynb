{
 "cells": [
  {
   "cell_type": "markdown",
   "metadata": {},
   "source": [
    "# **Drug Drug Interaction**"
   ]
  },
  {
   "cell_type": "markdown",
   "metadata": {},
   "source": [
    "## **Import Libraries**"
   ]
  },
  {
   "cell_type": "code",
   "execution_count": 72,
   "metadata": {
    "execution": {
     "iopub.execute_input": "2024-11-12T14:46:09.210139Z",
     "iopub.status.busy": "2024-11-12T14:46:09.209286Z",
     "iopub.status.idle": "2024-11-12T14:46:09.214933Z",
     "shell.execute_reply": "2024-11-12T14:46:09.213912Z",
     "shell.execute_reply.started": "2024-11-12T14:46:09.210078Z"
    },
    "trusted": true
   },
   "outputs": [],
   "source": [
    "import os\n",
    "os.environ[\"WANDB_DISABLED\"] = \"true\""
   ]
  },
  {
   "cell_type": "code",
   "execution_count": 73,
   "metadata": {
    "execution": {
     "iopub.execute_input": "2024-11-12T14:46:09.219780Z",
     "iopub.status.busy": "2024-11-12T14:46:09.219129Z",
     "iopub.status.idle": "2024-11-12T14:46:09.228147Z",
     "shell.execute_reply": "2024-11-12T14:46:09.226985Z",
     "shell.execute_reply.started": "2024-11-12T14:46:09.219738Z"
    },
    "trusted": true
   },
   "outputs": [],
   "source": [
    "import pandas as pd\n",
    "import os\n",
    "import xml.etree.ElementTree as ET\n",
    "from transformers import AutoTokenizer, AutoModelForSequenceClassification\n",
    "import torch\n",
    "from torch.utils.data import DataLoader, Dataset\n",
    "from sklearn.model_selection import train_test_split\n",
    "from sklearn.metrics import accuracy_score, classification_report"
   ]
  },
  {
   "cell_type": "markdown",
   "metadata": {},
   "source": [
    "## **Dataset**"
   ]
  },
  {
   "cell_type": "markdown",
   "metadata": {},
   "source": [
    "#### Parse the Dataset\n"
   ]
  },
  {
   "cell_type": "code",
   "execution_count": null,
   "metadata": {
    "execution": {
     "iopub.execute_input": "2024-11-12T14:46:09.230862Z",
     "iopub.status.busy": "2024-11-12T14:46:09.230476Z",
     "iopub.status.idle": "2024-11-12T14:46:09.246894Z",
     "shell.execute_reply": "2024-11-12T14:46:09.246074Z",
     "shell.execute_reply.started": "2024-11-12T14:46:09.230820Z"
    },
    "trusted": true
   },
   "outputs": [],
   "source": [
    "def parse_ddi_corpus(file_path):\n",
    "    tree = ET.parse(file_path)\n",
    "    root = tree.getroot()\n",
    "\n",
    "    data = []\n",
    "\n",
    "    for sentence in root.iter('sentence'):\n",
    "        sent_text = sentence.attrib['text']\n",
    "        entities = sentence.findall('entity')\n",
    "        pairs = sentence.findall('pair')\n",
    "\n",
    "        if len(entities) == 1:\n",
    "            data.append([entities[0].attrib['text'], 'NULL', sent_text, 'False'])\n",
    "        else:\n",
    "            for pair in pairs:\n",
    "                e1 = pair.attrib['e1']\n",
    "                e2 = pair.attrib['e2']\n",
    "                interaction = pair.attrib['ddi']\n",
    "\n",
    "                e1_text = next(entity.attrib['text'] for entity in entities if entity.attrib['id'] == e1)\n",
    "                e2_text = next(entity.attrib['text'] for entity in entities if entity.attrib['id'] == e2)\n",
    "\n",
    "                data.append([e1_text, e2_text, sent_text, interaction])\n",
    "\n",
    "    df = pd.DataFrame(data, columns=['Drug1', 'Drug2', 'Sentence', 'Interaction'])\n",
    "    return df\n",
    "\n",
    "def parse_all_ddi_files(directory_path):\n",
    "        all_data = []\n",
    "\n",
    "        for root, dirs, files in os.walk(directory_path):\n",
    "            for file in files:\n",
    "                if file.endswith('.xml'):\n",
    "                    file_path = os.path.join(root, file)\n",
    "                    df = parse_ddi_corpus(file_path)\n",
    "                    all_data.append(df)\n",
    "\n",
    "        combined_df = pd.concat(all_data, ignore_index=True)\n",
    "        return combined_df\n",
    "\n",
    "directory_path = '/kaggle/input/ddicorpus/DDICorpus/Train/DrugBank'\n",
    "directory_path_2 = '/kaggle/input/ddicorpus/DDICorpus/Train/MedLine' \n",
    "directory_path_test = '/kaggle/input/ddicorpus/DDICorpus/Test/Test for DDI Extraction task/DrugBank'\n",
    "directory_path_test_2 = '/kaggle/input/ddicorpus/DDICorpus/Test/Test for DDI Extraction task/MedLine'"
   ]
  },
  {
   "cell_type": "code",
   "execution_count": null,
   "metadata": {
    "trusted": true
   },
   "outputs": [],
   "source": [
    "df_1 = parse_all_ddi_files(directory_path)\n",
    "df_2 = parse_all_ddi_files(directory_path_2)\n",
    "df = pd.concat([df_1, df_2], ignore_index=True)\n",
    "\n",
    "\n",
    "test_df_1 = parse_all_ddi_files(directory_path_test)\n",
    "test_df_2 = parse_all_ddi_files(directory_path_test_2)\n",
    "test_df = pd.concat([test_df_1, test_df_2], ignore_index=True)\n",
    "df.head()\n",
    "test_df.head()"
   ]
  },
  {
   "cell_type": "markdown",
   "metadata": {},
   "source": [
    "#### Drop the rows with Drug1 or Drug2 as NULL\n"
   ]
  },
  {
   "cell_type": "code",
   "execution_count": 76,
   "metadata": {
    "execution": {
     "iopub.execute_input": "2024-11-12T14:46:11.966839Z",
     "iopub.status.busy": "2024-11-12T14:46:11.966136Z",
     "iopub.status.idle": "2024-11-12T14:46:11.996870Z",
     "shell.execute_reply": "2024-11-12T14:46:11.995957Z",
     "shell.execute_reply.started": "2024-11-12T14:46:11.966798Z"
    },
    "trusted": true
   },
   "outputs": [
    {
     "data": {
      "text/html": [
       "<div>\n",
       "<style scoped>\n",
       "    .dataframe tbody tr th:only-of-type {\n",
       "        vertical-align: middle;\n",
       "    }\n",
       "\n",
       "    .dataframe tbody tr th {\n",
       "        vertical-align: top;\n",
       "    }\n",
       "\n",
       "    .dataframe thead th {\n",
       "        text-align: right;\n",
       "    }\n",
       "</style>\n",
       "<table border=\"1\" class=\"dataframe\">\n",
       "  <thead>\n",
       "    <tr style=\"text-align: right;\">\n",
       "      <th></th>\n",
       "      <th>Drug1</th>\n",
       "      <th>Drug2</th>\n",
       "      <th>Sentence</th>\n",
       "      <th>Interaction</th>\n",
       "    </tr>\n",
       "  </thead>\n",
       "  <tbody>\n",
       "    <tr>\n",
       "      <th>0</th>\n",
       "      <td>Ketoconazole</td>\n",
       "      <td>Itraconazole</td>\n",
       "      <td>Ketoconazole/Itraconazole, Macrolides, Includi...</td>\n",
       "      <td>false</td>\n",
       "    </tr>\n",
       "    <tr>\n",
       "      <th>1</th>\n",
       "      <td>Ketoconazole</td>\n",
       "      <td>Macrolides</td>\n",
       "      <td>Ketoconazole/Itraconazole, Macrolides, Includi...</td>\n",
       "      <td>false</td>\n",
       "    </tr>\n",
       "    <tr>\n",
       "      <th>2</th>\n",
       "      <td>Ketoconazole</td>\n",
       "      <td>Erythromycin</td>\n",
       "      <td>Ketoconazole/Itraconazole, Macrolides, Includi...</td>\n",
       "      <td>false</td>\n",
       "    </tr>\n",
       "    <tr>\n",
       "      <th>3</th>\n",
       "      <td>Itraconazole</td>\n",
       "      <td>Macrolides</td>\n",
       "      <td>Ketoconazole/Itraconazole, Macrolides, Includi...</td>\n",
       "      <td>false</td>\n",
       "    </tr>\n",
       "    <tr>\n",
       "      <th>4</th>\n",
       "      <td>Itraconazole</td>\n",
       "      <td>Erythromycin</td>\n",
       "      <td>Ketoconazole/Itraconazole, Macrolides, Includi...</td>\n",
       "      <td>false</td>\n",
       "    </tr>\n",
       "    <tr>\n",
       "      <th>...</th>\n",
       "      <td>...</td>\n",
       "      <td>...</td>\n",
       "      <td>...</td>\n",
       "      <td>...</td>\n",
       "    </tr>\n",
       "    <tr>\n",
       "      <th>29558</th>\n",
       "      <td>filipin</td>\n",
       "      <td>amphotericin B</td>\n",
       "      <td>Both the toxicity of filipin and the therapeut...</td>\n",
       "      <td>false</td>\n",
       "    </tr>\n",
       "    <tr>\n",
       "      <th>29559</th>\n",
       "      <td>filipin</td>\n",
       "      <td>polyene antibiotics</td>\n",
       "      <td>Both the toxicity of filipin and the therapeut...</td>\n",
       "      <td>false</td>\n",
       "    </tr>\n",
       "    <tr>\n",
       "      <th>29560</th>\n",
       "      <td>amphotericin B</td>\n",
       "      <td>polyene antibiotics</td>\n",
       "      <td>Both the toxicity of filipin and the therapeut...</td>\n",
       "      <td>false</td>\n",
       "    </tr>\n",
       "    <tr>\n",
       "      <th>29561</th>\n",
       "      <td>filipin</td>\n",
       "      <td>amphotericin B</td>\n",
       "      <td>filipin was more potent in lysing human red bl...</td>\n",
       "      <td>false</td>\n",
       "    </tr>\n",
       "    <tr>\n",
       "      <th>29562</th>\n",
       "      <td>filipin</td>\n",
       "      <td>amphotericin B</td>\n",
       "      <td>and (ii) the effects of filipin were more effi...</td>\n",
       "      <td>false</td>\n",
       "    </tr>\n",
       "  </tbody>\n",
       "</table>\n",
       "<p>27792 rows × 4 columns</p>\n",
       "</div>"
      ],
      "text/plain": [
       "                Drug1                Drug2  \\\n",
       "0        Ketoconazole         Itraconazole   \n",
       "1        Ketoconazole           Macrolides   \n",
       "2        Ketoconazole         Erythromycin   \n",
       "3        Itraconazole           Macrolides   \n",
       "4        Itraconazole         Erythromycin   \n",
       "...               ...                  ...   \n",
       "29558         filipin       amphotericin B   \n",
       "29559         filipin  polyene antibiotics   \n",
       "29560  amphotericin B  polyene antibiotics   \n",
       "29561         filipin       amphotericin B   \n",
       "29562         filipin       amphotericin B   \n",
       "\n",
       "                                                Sentence Interaction  \n",
       "0      Ketoconazole/Itraconazole, Macrolides, Includi...       false  \n",
       "1      Ketoconazole/Itraconazole, Macrolides, Includi...       false  \n",
       "2      Ketoconazole/Itraconazole, Macrolides, Includi...       false  \n",
       "3      Ketoconazole/Itraconazole, Macrolides, Includi...       false  \n",
       "4      Ketoconazole/Itraconazole, Macrolides, Includi...       false  \n",
       "...                                                  ...         ...  \n",
       "29558  Both the toxicity of filipin and the therapeut...       false  \n",
       "29559  Both the toxicity of filipin and the therapeut...       false  \n",
       "29560  Both the toxicity of filipin and the therapeut...       false  \n",
       "29561  filipin was more potent in lysing human red bl...       false  \n",
       "29562  and (ii) the effects of filipin were more effi...       false  \n",
       "\n",
       "[27792 rows x 4 columns]"
      ]
     },
     "execution_count": 76,
     "metadata": {},
     "output_type": "execute_result"
    }
   ],
   "source": [
    "df = df[(df['Drug1'] != 'NULL') & (df['Drug2'] != 'NULL')]\n",
    "test_df = test_df[(test_df['Drug1'] != 'NULL') & (test_df['Drug2'] != 'NULL')]\n",
    "df\n"
   ]
  },
  {
   "cell_type": "markdown",
   "metadata": {},
   "source": [
    "#### Convert 'Interaction' column to binary labels (1 for true, 0 for false)\n"
   ]
  },
  {
   "cell_type": "code",
   "execution_count": 78,
   "metadata": {
    "execution": {
     "iopub.execute_input": "2024-11-12T14:46:12.724291Z",
     "iopub.status.busy": "2024-11-12T14:46:12.724010Z",
     "iopub.status.idle": "2024-11-12T14:46:12.753062Z",
     "shell.execute_reply": "2024-11-12T14:46:12.752147Z",
     "shell.execute_reply.started": "2024-11-12T14:46:12.724241Z"
    },
    "trusted": true
   },
   "outputs": [],
   "source": [
    "df['Interaction'] = df['Interaction'].apply(lambda x: 1 if x == 'true' else 0)\n",
    "test_df['Interaction'] = test_df['Interaction'].apply(lambda x: 1 if x == 'true' else 0)"
   ]
  },
  {
   "cell_type": "markdown",
   "metadata": {},
   "source": [
    "## **Model**"
   ]
  },
  {
   "cell_type": "markdown",
   "metadata": {},
   "source": [
    "#### Load BioBERT and tokenizer"
   ]
  },
  {
   "cell_type": "code",
   "execution_count": 77,
   "metadata": {
    "execution": {
     "iopub.execute_input": "2024-11-12T14:46:11.998552Z",
     "iopub.status.busy": "2024-11-12T14:46:11.998131Z",
     "iopub.status.idle": "2024-11-12T14:46:12.722997Z",
     "shell.execute_reply": "2024-11-12T14:46:12.722277Z",
     "shell.execute_reply.started": "2024-11-12T14:46:11.998506Z"
    },
    "trusted": true
   },
   "outputs": [
    {
     "name": "stderr",
     "output_type": "stream",
     "text": [
      "Some weights of BertForSequenceClassification were not initialized from the model checkpoint at dmis-lab/biobert-base-cased-v1.1 and are newly initialized: ['classifier.bias', 'classifier.weight']\n",
      "You should probably TRAIN this model on a down-stream task to be able to use it for predictions and inference.\n"
     ]
    }
   ],
   "source": [
    "tokenizer = AutoTokenizer.from_pretrained(\"dmis-lab/biobert-base-cased-v1.1\")\n",
    "model = AutoModelForSequenceClassification.from_pretrained(\"dmis-lab/biobert-base-cased-v1.1\", num_labels=2)"
   ]
  },
  {
   "cell_type": "markdown",
   "metadata": {},
   "source": [
    "#### Custom Dataset class for the DDI data"
   ]
  },
  {
   "cell_type": "code",
   "execution_count": null,
   "metadata": {
    "trusted": true
   },
   "outputs": [],
   "source": [
    "class DDIDataset(Dataset):\n",
    "    def __init__(self, df, tokenizer, max_len=128):\n",
    "        self.df = df\n",
    "        self.tokenizer = tokenizer\n",
    "        self.max_len = max_len\n",
    "\n",
    "    def __len__(self):\n",
    "        return len(self.df)\n",
    "\n",
    "    def __getitem__(self, index):\n",
    "        row = self.df.iloc[index]\n",
    "        sentence = f\"{row['Sentence'].replace(row['Drug1'], '[Drug1]').replace(row['Drug2'], '[Drug2]')}\"\n",
    "        inputs = self.tokenizer(sentence, padding='max_length', truncation=True, max_length=self.max_len, return_tensors=\"pt\")\n",
    "        input_ids = inputs['input_ids'].squeeze()\n",
    "        attention_mask = inputs['attention_mask'].squeeze()\n",
    "        label = row['Interaction']  # Use the binary labels (0 or 1)\n",
    "        return input_ids, attention_mask, label\n"
   ]
  },
  {
   "cell_type": "code",
   "execution_count": null,
   "metadata": {
    "trusted": true
   },
   "outputs": [],
   "source": [
    "train_dataset = DDIDataset(df, tokenizer)\n",
    "test_dataset = DDIDataset(test_df, tokenizer)\n",
    "\n",
    "train_loader = DataLoader(train_dataset, batch_size=16, shuffle=True)\n",
    "test_loader = DataLoader(test_dataset, batch_size=16)"
   ]
  },
  {
   "cell_type": "markdown",
   "metadata": {},
   "source": [
    "#### Training function"
   ]
  },
  {
   "cell_type": "code",
   "execution_count": null,
   "metadata": {
    "trusted": true
   },
   "outputs": [],
   "source": [
    "def train(model, train_loader, optimizer, device):\n",
    "    model.train()\n",
    "    total_loss = 0\n",
    "    for batch in train_loader:\n",
    "        input_ids, attention_mask, labels = [item.to(device) for item in batch]\n",
    "        optimizer.zero_grad()\n",
    "        outputs = model(input_ids=input_ids, attention_mask=attention_mask, labels=labels)\n",
    "        loss = outputs.loss\n",
    "        loss.backward()\n",
    "        optimizer.step()\n",
    "        total_loss += loss.item()\n",
    "    return total_loss / len(train_loader)\n"
   ]
  },
  {
   "cell_type": "markdown",
   "metadata": {},
   "source": [
    "#### Evaluation function"
   ]
  },
  {
   "cell_type": "code",
   "execution_count": null,
   "metadata": {
    "trusted": true
   },
   "outputs": [],
   "source": [
    "def evaluate(model, test_loader, device):\n",
    "    model.eval()\n",
    "    predictions, true_labels = [], []\n",
    "    with torch.no_grad():\n",
    "        for batch in test_loader:\n",
    "            input_ids, attention_mask, labels = [item.to(device) for item in batch]\n",
    "            outputs = model(input_ids=input_ids, attention_mask=attention_mask)\n",
    "            logits = outputs.logits\n",
    "            predictions.extend(torch.argmax(logits, dim=1).cpu().numpy())\n",
    "            true_labels.extend(labels.cpu().numpy())\n",
    "    accuracy = accuracy_score(true_labels, predictions)\n",
    "    report = classification_report(true_labels, predictions)\n",
    "    return accuracy, report\n"
   ]
  },
  {
   "cell_type": "markdown",
   "metadata": {},
   "source": [
    "#### Train the model"
   ]
  },
  {
   "cell_type": "code",
   "execution_count": null,
   "metadata": {
    "trusted": true
   },
   "outputs": [],
   "source": [
    "# Initialize the optimizer\n",
    "optimizer = torch.optim.AdamW(model.parameters(), lr=1e-5)\n",
    "\n",
    "\n",
    "device = torch.device(\"cuda\" if torch.cuda.is_available() else \"cpu\")\n",
    "model.to(device)\n",
    "\n",
    "epochs = 3\n",
    "for epoch in range(epochs):\n",
    "    train_loss = train(model, train_loader, optimizer, device)\n",
    "    print(f\"Epoch {epoch+1}/{epochs}, Loss: {train_loss}\")\n"
   ]
  },
  {
   "cell_type": "markdown",
   "metadata": {},
   "source": [
    "#### Evaluate the model"
   ]
  },
  {
   "cell_type": "code",
   "execution_count": 81,
   "metadata": {
    "execution": {
     "iopub.execute_input": "2024-11-12T14:46:12.795942Z",
     "iopub.status.busy": "2024-11-12T14:46:12.795591Z",
     "iopub.status.idle": "2024-11-12T15:17:05.417485Z",
     "shell.execute_reply": "2024-11-12T15:17:05.416448Z",
     "shell.execute_reply.started": "2024-11-12T14:46:12.795908Z"
    },
    "trusted": true
   },
   "outputs": [
    {
     "name": "stdout",
     "output_type": "stream",
     "text": [
      "Epoch 1/3, Loss: 0.1710170605734621\n",
      "Epoch 2/3, Loss: 0.09338661233484895\n",
      "Epoch 3/3, Loss: 0.07077675234118506\n",
      "Test Accuracy: 0.928446466060182\n",
      "              precision    recall  f1-score   support\n",
      "\n",
      "           0       0.98      0.93      0.96      4737\n",
      "           1       0.74      0.90      0.81       979\n",
      "\n",
      "    accuracy                           0.93      5716\n",
      "   macro avg       0.86      0.92      0.88      5716\n",
      "weighted avg       0.94      0.93      0.93      5716\n",
      "\n"
     ]
    }
   ],
   "source": [
    "accuracy, report = evaluate(model, test_loader, device)\n",
    "print(f\"Test Accuracy: {accuracy}\")\n",
    "print(report)"
   ]
  },
  {
   "cell_type": "markdown",
   "metadata": {},
   "source": [
    "## Save the model"
   ]
  },
  {
   "cell_type": "code",
   "execution_count": 82,
   "metadata": {
    "execution": {
     "iopub.execute_input": "2024-11-12T15:17:05.418966Z",
     "iopub.status.busy": "2024-11-12T15:17:05.418638Z",
     "iopub.status.idle": "2024-11-12T15:17:06.359730Z",
     "shell.execute_reply": "2024-11-12T15:17:06.358663Z",
     "shell.execute_reply.started": "2024-11-12T15:17:05.418930Z"
    },
    "trusted": true
   },
   "outputs": [
    {
     "data": {
      "text/plain": [
       "('saved_biobert_model/tokenizer_config.json',\n",
       " 'saved_biobert_model/special_tokens_map.json',\n",
       " 'saved_biobert_model/vocab.txt',\n",
       " 'saved_biobert_model/added_tokens.json',\n",
       " 'saved_biobert_model/tokenizer.json')"
      ]
     },
     "execution_count": 82,
     "metadata": {},
     "output_type": "execute_result"
    }
   ],
   "source": [
    "output_dir = \"saved_biobert_model\"\n",
    "os.makedirs(output_dir, exist_ok=True)\n",
    "# Save the model and tokenizer\n",
    "model.save_pretrained(output_dir)\n",
    "tokenizer.save_pretrained(output_dir)\n"
   ]
  }
 ],
 "metadata": {
  "kaggle": {
   "accelerator": "nvidiaTeslaT4",
   "dataSources": [
    {
     "datasetId": 5920889,
     "sourceId": 9685749,
     "sourceType": "datasetVersion"
    }
   ],
   "dockerImageVersionId": 30787,
   "isGpuEnabled": true,
   "isInternetEnabled": true,
   "language": "python",
   "sourceType": "notebook"
  },
  "kernelspec": {
   "display_name": "Python 3",
   "language": "python",
   "name": "python3"
  },
  "language_info": {
   "codemirror_mode": {
    "name": "ipython",
    "version": 3
   },
   "file_extension": ".py",
   "mimetype": "text/x-python",
   "name": "python",
   "nbconvert_exporter": "python",
   "pygments_lexer": "ipython3",
   "version": "3.10.14"
  }
 },
 "nbformat": 4,
 "nbformat_minor": 4
}
